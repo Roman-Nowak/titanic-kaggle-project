{
 "cells": [
  {
   "cell_type": "markdown",
   "id": "0248d3eb",
   "metadata": {},
   "source": [
    "# TITANIC DATASET CLASSIFICATION PROJECT"
   ]
  },
  {
   "cell_type": "markdown",
   "id": "39823c31",
   "metadata": {},
   "source": [
    "## Project structure\n",
    "\n",
    "1. Intro to the problem - problem definition\n",
    "2. Get the data (clone the repo)\n",
    "3. Imports (import libraries)\n",
    "4. Basic data description\n",
    "5. EDA\n",
    "6. Missing values\n",
    "7. feature preparation and engineering\n",
    "    - 7.1 Create a new feature\n",
    "    - 7.2 Convert categorical features to dummy variables\n",
    "    - 7.3 Train-test split\n",
    "    - 7.4 Normalize continuous data\n",
    "8. Train model\n",
    "9. Evaluate model - choose 1-3 metrics and evaluate the model\n",
    "10. Project summary and possible (future) improvements\n",
    "11. Push to Github"
   ]
  },
  {
   "cell_type": "markdown",
   "id": "3caa31c8",
   "metadata": {},
   "source": [
    "## Problem definition\n",
    "* We want to create a model for the prediction of whether a given person will survive or not based on their features like age, gender, ticket class, number of siblings, parents, spouse...\n",
    "* https://www.kaggle.com/competitions/titanic/data"
   ]
  },
  {
   "cell_type": "markdown",
   "id": "ccaef7ae",
   "metadata": {},
   "source": [
    "## Libraries"
   ]
  },
  {
   "cell_type": "code",
   "execution_count": 56,
   "id": "4eaa6ebc",
   "metadata": {},
   "outputs": [],
   "source": [
    "import pandas as pd\n",
    "import numpy as np\n",
    "import seaborn as sns\n",
    "import matplotlib.pyplot as plt\n",
    "\n",
    "from sklearn.model_selection import train_test_split as ttt\n",
    "from sklearn.ensemble import RandomForestClassifier as rfc\n",
    "from sklearn.metrics import accuracy_score, precision_score, recall_score, f1_score\n",
    "from sklearn.metrics import confusion_matrix\n",
    "\n",
    "import seaborn as sns"
   ]
  },
  {
   "cell_type": "markdown",
   "id": "4949cae6",
   "metadata": {},
   "source": [
    "## Import the data"
   ]
  },
  {
   "cell_type": "code",
   "execution_count": 2,
   "id": "e773e5bf",
   "metadata": {},
   "outputs": [],
   "source": [
    "titanic = pd.read_csv(\"titanic.csv\")"
   ]
  },
  {
   "cell_type": "markdown",
   "id": "7ee19895",
   "metadata": {},
   "source": [
    "## Basic data description and inspection"
   ]
  },
  {
   "cell_type": "code",
   "execution_count": 3,
   "id": "552e35a1",
   "metadata": {},
   "outputs": [
    {
     "data": {
      "text/html": [
       "<div>\n",
       "<style scoped>\n",
       "    .dataframe tbody tr th:only-of-type {\n",
       "        vertical-align: middle;\n",
       "    }\n",
       "\n",
       "    .dataframe tbody tr th {\n",
       "        vertical-align: top;\n",
       "    }\n",
       "\n",
       "    .dataframe thead th {\n",
       "        text-align: right;\n",
       "    }\n",
       "</style>\n",
       "<table border=\"1\" class=\"dataframe\">\n",
       "  <thead>\n",
       "    <tr style=\"text-align: right;\">\n",
       "      <th></th>\n",
       "      <th>PassengerId</th>\n",
       "      <th>Survived</th>\n",
       "      <th>Pclass</th>\n",
       "      <th>Name</th>\n",
       "      <th>Sex</th>\n",
       "      <th>Age</th>\n",
       "      <th>SibSp</th>\n",
       "      <th>Parch</th>\n",
       "      <th>Ticket</th>\n",
       "      <th>Fare</th>\n",
       "      <th>Cabin</th>\n",
       "      <th>Embarked</th>\n",
       "    </tr>\n",
       "  </thead>\n",
       "  <tbody>\n",
       "    <tr>\n",
       "      <th>0</th>\n",
       "      <td>1</td>\n",
       "      <td>0</td>\n",
       "      <td>3</td>\n",
       "      <td>Braund, Mr. Owen Harris</td>\n",
       "      <td>male</td>\n",
       "      <td>22.0</td>\n",
       "      <td>1</td>\n",
       "      <td>0</td>\n",
       "      <td>A/5 21171</td>\n",
       "      <td>7.2500</td>\n",
       "      <td>NaN</td>\n",
       "      <td>S</td>\n",
       "    </tr>\n",
       "    <tr>\n",
       "      <th>1</th>\n",
       "      <td>2</td>\n",
       "      <td>1</td>\n",
       "      <td>1</td>\n",
       "      <td>Cumings, Mrs. John Bradley (Florence Briggs Th...</td>\n",
       "      <td>female</td>\n",
       "      <td>38.0</td>\n",
       "      <td>1</td>\n",
       "      <td>0</td>\n",
       "      <td>PC 17599</td>\n",
       "      <td>71.2833</td>\n",
       "      <td>C85</td>\n",
       "      <td>C</td>\n",
       "    </tr>\n",
       "    <tr>\n",
       "      <th>2</th>\n",
       "      <td>3</td>\n",
       "      <td>1</td>\n",
       "      <td>3</td>\n",
       "      <td>Heikkinen, Miss. Laina</td>\n",
       "      <td>female</td>\n",
       "      <td>26.0</td>\n",
       "      <td>0</td>\n",
       "      <td>0</td>\n",
       "      <td>STON/O2. 3101282</td>\n",
       "      <td>7.9250</td>\n",
       "      <td>NaN</td>\n",
       "      <td>S</td>\n",
       "    </tr>\n",
       "    <tr>\n",
       "      <th>3</th>\n",
       "      <td>4</td>\n",
       "      <td>1</td>\n",
       "      <td>1</td>\n",
       "      <td>Futrelle, Mrs. Jacques Heath (Lily May Peel)</td>\n",
       "      <td>female</td>\n",
       "      <td>35.0</td>\n",
       "      <td>1</td>\n",
       "      <td>0</td>\n",
       "      <td>113803</td>\n",
       "      <td>53.1000</td>\n",
       "      <td>C123</td>\n",
       "      <td>S</td>\n",
       "    </tr>\n",
       "    <tr>\n",
       "      <th>4</th>\n",
       "      <td>5</td>\n",
       "      <td>0</td>\n",
       "      <td>3</td>\n",
       "      <td>Allen, Mr. William Henry</td>\n",
       "      <td>male</td>\n",
       "      <td>35.0</td>\n",
       "      <td>0</td>\n",
       "      <td>0</td>\n",
       "      <td>373450</td>\n",
       "      <td>8.0500</td>\n",
       "      <td>NaN</td>\n",
       "      <td>S</td>\n",
       "    </tr>\n",
       "  </tbody>\n",
       "</table>\n",
       "</div>"
      ],
      "text/plain": [
       "   PassengerId  Survived  Pclass  \\\n",
       "0            1         0       3   \n",
       "1            2         1       1   \n",
       "2            3         1       3   \n",
       "3            4         1       1   \n",
       "4            5         0       3   \n",
       "\n",
       "                                                Name     Sex   Age  SibSp  \\\n",
       "0                            Braund, Mr. Owen Harris    male  22.0      1   \n",
       "1  Cumings, Mrs. John Bradley (Florence Briggs Th...  female  38.0      1   \n",
       "2                             Heikkinen, Miss. Laina  female  26.0      0   \n",
       "3       Futrelle, Mrs. Jacques Heath (Lily May Peel)  female  35.0      1   \n",
       "4                           Allen, Mr. William Henry    male  35.0      0   \n",
       "\n",
       "   Parch            Ticket     Fare Cabin Embarked  \n",
       "0      0         A/5 21171   7.2500   NaN        S  \n",
       "1      0          PC 17599  71.2833   C85        C  \n",
       "2      0  STON/O2. 3101282   7.9250   NaN        S  \n",
       "3      0            113803  53.1000  C123        S  \n",
       "4      0            373450   8.0500   NaN        S  "
      ]
     },
     "execution_count": 3,
     "metadata": {},
     "output_type": "execute_result"
    }
   ],
   "source": [
    "titanic.head()"
   ]
  },
  {
   "cell_type": "markdown",
   "id": "1a11b8e1",
   "metadata": {},
   "source": [
    "* Above we see that we have one dependent variable **Survived**.\n",
    "* Our predictors are:\n",
    "    * Pclass (ticket class)\n",
    "    * Name\n",
    "    * Sex\n",
    "    * Age\n",
    "    * SibSp (number of siblings/spouses)\n",
    "    * Parch (number of parents/children)\n",
    "    * Ticket\n",
    "    * Fare\n",
    "    * Cabin\n",
    "    * Embarked (town)<br>\n",
    "\n",
    "**For the purpose of simplicity we will focus only on numerical/categorical data and ignore the text data like Name and Ticket**"
   ]
  },
  {
   "cell_type": "code",
   "execution_count": 4,
   "id": "731e08e2",
   "metadata": {},
   "outputs": [
    {
     "data": {
      "text/html": [
       "<div>\n",
       "<style scoped>\n",
       "    .dataframe tbody tr th:only-of-type {\n",
       "        vertical-align: middle;\n",
       "    }\n",
       "\n",
       "    .dataframe tbody tr th {\n",
       "        vertical-align: top;\n",
       "    }\n",
       "\n",
       "    .dataframe thead th {\n",
       "        text-align: right;\n",
       "    }\n",
       "</style>\n",
       "<table border=\"1\" class=\"dataframe\">\n",
       "  <thead>\n",
       "    <tr style=\"text-align: right;\">\n",
       "      <th></th>\n",
       "      <th>PassengerId</th>\n",
       "      <th>Survived</th>\n",
       "      <th>Pclass</th>\n",
       "      <th>Age</th>\n",
       "      <th>SibSp</th>\n",
       "      <th>Parch</th>\n",
       "      <th>Fare</th>\n",
       "    </tr>\n",
       "  </thead>\n",
       "  <tbody>\n",
       "    <tr>\n",
       "      <th>count</th>\n",
       "      <td>891.000000</td>\n",
       "      <td>891.000000</td>\n",
       "      <td>891.000000</td>\n",
       "      <td>714.000000</td>\n",
       "      <td>891.000000</td>\n",
       "      <td>891.000000</td>\n",
       "      <td>891.000000</td>\n",
       "    </tr>\n",
       "    <tr>\n",
       "      <th>mean</th>\n",
       "      <td>446.000000</td>\n",
       "      <td>0.383838</td>\n",
       "      <td>2.308642</td>\n",
       "      <td>29.699118</td>\n",
       "      <td>0.523008</td>\n",
       "      <td>0.381594</td>\n",
       "      <td>32.204208</td>\n",
       "    </tr>\n",
       "    <tr>\n",
       "      <th>std</th>\n",
       "      <td>257.353842</td>\n",
       "      <td>0.486592</td>\n",
       "      <td>0.836071</td>\n",
       "      <td>14.526497</td>\n",
       "      <td>1.102743</td>\n",
       "      <td>0.806057</td>\n",
       "      <td>49.693429</td>\n",
       "    </tr>\n",
       "    <tr>\n",
       "      <th>min</th>\n",
       "      <td>1.000000</td>\n",
       "      <td>0.000000</td>\n",
       "      <td>1.000000</td>\n",
       "      <td>0.420000</td>\n",
       "      <td>0.000000</td>\n",
       "      <td>0.000000</td>\n",
       "      <td>0.000000</td>\n",
       "    </tr>\n",
       "    <tr>\n",
       "      <th>25%</th>\n",
       "      <td>223.500000</td>\n",
       "      <td>0.000000</td>\n",
       "      <td>2.000000</td>\n",
       "      <td>20.125000</td>\n",
       "      <td>0.000000</td>\n",
       "      <td>0.000000</td>\n",
       "      <td>7.910400</td>\n",
       "    </tr>\n",
       "    <tr>\n",
       "      <th>50%</th>\n",
       "      <td>446.000000</td>\n",
       "      <td>0.000000</td>\n",
       "      <td>3.000000</td>\n",
       "      <td>28.000000</td>\n",
       "      <td>0.000000</td>\n",
       "      <td>0.000000</td>\n",
       "      <td>14.454200</td>\n",
       "    </tr>\n",
       "    <tr>\n",
       "      <th>75%</th>\n",
       "      <td>668.500000</td>\n",
       "      <td>1.000000</td>\n",
       "      <td>3.000000</td>\n",
       "      <td>38.000000</td>\n",
       "      <td>1.000000</td>\n",
       "      <td>0.000000</td>\n",
       "      <td>31.000000</td>\n",
       "    </tr>\n",
       "    <tr>\n",
       "      <th>max</th>\n",
       "      <td>891.000000</td>\n",
       "      <td>1.000000</td>\n",
       "      <td>3.000000</td>\n",
       "      <td>80.000000</td>\n",
       "      <td>8.000000</td>\n",
       "      <td>6.000000</td>\n",
       "      <td>512.329200</td>\n",
       "    </tr>\n",
       "  </tbody>\n",
       "</table>\n",
       "</div>"
      ],
      "text/plain": [
       "       PassengerId    Survived      Pclass         Age       SibSp  \\\n",
       "count   891.000000  891.000000  891.000000  714.000000  891.000000   \n",
       "mean    446.000000    0.383838    2.308642   29.699118    0.523008   \n",
       "std     257.353842    0.486592    0.836071   14.526497    1.102743   \n",
       "min       1.000000    0.000000    1.000000    0.420000    0.000000   \n",
       "25%     223.500000    0.000000    2.000000   20.125000    0.000000   \n",
       "50%     446.000000    0.000000    3.000000   28.000000    0.000000   \n",
       "75%     668.500000    1.000000    3.000000   38.000000    1.000000   \n",
       "max     891.000000    1.000000    3.000000   80.000000    8.000000   \n",
       "\n",
       "            Parch        Fare  \n",
       "count  891.000000  891.000000  \n",
       "mean     0.381594   32.204208  \n",
       "std      0.806057   49.693429  \n",
       "min      0.000000    0.000000  \n",
       "25%      0.000000    7.910400  \n",
       "50%      0.000000   14.454200  \n",
       "75%      0.000000   31.000000  \n",
       "max      6.000000  512.329200  "
      ]
     },
     "execution_count": 4,
     "metadata": {},
     "output_type": "execute_result"
    }
   ],
   "source": [
    "titanic.describe()"
   ]
  },
  {
   "cell_type": "markdown",
   "id": "43f96bf1",
   "metadata": {},
   "source": [
    "Above we can already see that Age has quite a lot of missing values so we will want to do something about that"
   ]
  },
  {
   "cell_type": "code",
   "execution_count": 5,
   "id": "1dd6f51b",
   "metadata": {},
   "outputs": [
    {
     "name": "stdout",
     "output_type": "stream",
     "text": [
      "<class 'pandas.core.frame.DataFrame'>\n",
      "RangeIndex: 891 entries, 0 to 890\n",
      "Data columns (total 12 columns):\n",
      " #   Column       Non-Null Count  Dtype  \n",
      "---  ------       --------------  -----  \n",
      " 0   PassengerId  891 non-null    int64  \n",
      " 1   Survived     891 non-null    int64  \n",
      " 2   Pclass       891 non-null    int64  \n",
      " 3   Name         891 non-null    object \n",
      " 4   Sex          891 non-null    object \n",
      " 5   Age          714 non-null    float64\n",
      " 6   SibSp        891 non-null    int64  \n",
      " 7   Parch        891 non-null    int64  \n",
      " 8   Ticket       891 non-null    object \n",
      " 9   Fare         891 non-null    float64\n",
      " 10  Cabin        204 non-null    object \n",
      " 11  Embarked     889 non-null    object \n",
      "dtypes: float64(2), int64(5), object(5)\n",
      "memory usage: 83.7+ KB\n"
     ]
    }
   ],
   "source": [
    "titanic.info()"
   ]
  },
  {
   "cell_type": "markdown",
   "id": "9dea27bf",
   "metadata": {},
   "source": [
    "Above we have the data types of the columns in our dataframe so that we can reference it later should we need it"
   ]
  },
  {
   "cell_type": "markdown",
   "id": "14cf22d7",
   "metadata": {},
   "source": [
    "## Exploratory Data Analysis"
   ]
  },
  {
   "cell_type": "markdown",
   "id": "f85eaa4f",
   "metadata": {},
   "source": [
    "### let's plot the variables we want to use"
   ]
  },
  {
   "cell_type": "markdown",
   "id": "37536e90",
   "metadata": {},
   "source": [
    "#### Here are the plots of our predictors:"
   ]
  },
  {
   "cell_type": "code",
   "execution_count": 6,
   "id": "97b57f8e",
   "metadata": {},
   "outputs": [
    {
     "data": {
      "text/plain": [
       "<AxesSubplot:xlabel='Age', ylabel='Count'>"
      ]
     },
     "execution_count": 6,
     "metadata": {},
     "output_type": "execute_result"
    },
    {
     "data": {
      "image/png": "[encoded data removed]",
      "text/plain": [
       "<Figure size 432x288 with 1 Axes>"
      ]
     },
     "metadata": {
      "needs_background": "light"
     },
     "output_type": "display_data"
    }
   ],
   "source": [
    "sns.histplot(data=titanic, hue=\"Sex\", x=\"Age\")"
   ]
  },
  {
   "cell_type": "code",
   "execution_count": 7,
   "id": "173384f3",
   "metadata": {},
   "outputs": [
    {
     "data": {
      "text/plain": [
       "<AxesSubplot:xlabel='Fare', ylabel='Count'>"
      ]
     },
     "execution_count": 7,
     "metadata": {},
     "output_type": "execute_result"
    },
    {
     "data": {
      "image/png": "[encoded data removed]",
      "text/plain": [
       "<Figure size 432x288 with 1 Axes>"
      ]
     },
     "metadata": {
      "needs_background": "light"
     },
     "output_type": "display_data"
    }
   ],
   "source": [
    "sns.histplot(data=titanic, x=\"Fare\")"
   ]
  },
  {
   "cell_type": "code",
   "execution_count": 8,
   "id": "7e6b1472",
   "metadata": {},
   "outputs": [
    {
     "data": {
      "text/plain": [
       "<AxesSubplot:xlabel='Parch', ylabel='Count'>"
      ]
     },
     "execution_count": 8,
     "metadata": {},
     "output_type": "execute_result"
    },
    {
     "data": {
      "image/png": "[encoded data removed]",
      "text/plain": [
       "<Figure size 432x288 with 1 Axes>"
      ]
     },
     "metadata": {
      "needs_background": "light"
     },
     "output_type": "display_data"
    }
   ],
   "source": [
    "sns.histplot(data=titanic, x=\"Parch\")"
   ]
  },
  {
   "cell_type": "code",
   "execution_count": 9,
   "id": "4b104dff",
   "metadata": {},
   "outputs": [
    {
     "data": {
      "text/plain": [
       "<AxesSubplot:xlabel='SibSp', ylabel='Count'>"
      ]
     },
     "execution_count": 9,
     "metadata": {},
     "output_type": "execute_result"
    },
    {
     "data": {
      "image/png": "[encoded data removed]",
      "text/plain": [
       "<Figure size 432x288 with 1 Axes>"
      ]
     },
     "metadata": {
      "needs_background": "light"
     },
     "output_type": "display_data"
    }
   ],
   "source": [
    "sns.histplot(data=titanic, x=\"SibSp\")"
   ]
  },
  {
   "cell_type": "code",
   "execution_count": 10,
   "id": "207b78ff",
   "metadata": {},
   "outputs": [
    {
     "data": {
      "text/plain": [
       "<AxesSubplot:xlabel='Embarked', ylabel='count'>"
      ]
     },
     "execution_count": 10,
     "metadata": {},
     "output_type": "execute_result"
    },
    {
     "data": {
      "image/png": "[encoded data removed]",
      "text/plain": [
       "<Figure size 432x288 with 1 Axes>"
      ]
     },
     "metadata": {
      "needs_background": "light"
     },
     "output_type": "display_data"
    }
   ],
   "source": [
    "sns.countplot(data=titanic, x=\"Embarked\")"
   ]
  },
  {
   "cell_type": "markdown",
   "id": "9c5b14e2",
   "metadata": {},
   "source": [
    "#### Here is a countplot for our dependent variables - Survived"
   ]
  },
  {
   "cell_type": "code",
   "execution_count": 11,
   "id": "084c4fc2",
   "metadata": {},
   "outputs": [
    {
     "data": {
      "image/png": "[encoded data removed]",
      "text/plain": [
       "<Figure size 432x288 with 1 Axes>"
      ]
     },
     "metadata": {
      "needs_background": "light"
     },
     "output_type": "display_data"
    }
   ],
   "source": [
    "sns.countplot(x=\"Survived\", data=titanic);"
   ]
  },
  {
   "cell_type": "markdown",
   "id": "9a4b5c6a",
   "metadata": {},
   "source": [
    "#### Now let's plot some relationships between our predictors and dependent variable - Survived"
   ]
  },
  {
   "cell_type": "code",
   "execution_count": 12,
   "id": "2ed22b65",
   "metadata": {
    "scrolled": false
   },
   "outputs": [
    {
     "name": "stderr",
     "output_type": "stream",
     "text": [
      "C:\\Users\\Rnowa\\anaconda3\\envs\\SDA_DASCI\\lib\\site-packages\\seaborn\\categorical.py:1296: UserWarning: 6.2% of the points cannot be placed; you may want to decrease the size of the markers or use stripplot.\n",
      "  warnings.warn(msg, UserWarning)\n"
     ]
    },
    {
     "data": {
      "image/png": "[encoded data removed]",
      "text/plain": [
       "<Figure size 504x504 with 1 Axes>"
      ]
     },
     "metadata": {
      "needs_background": "light"
     },
     "output_type": "display_data"
    }
   ],
   "source": [
    "sns.catplot(x=\"Survived\", y=\"Age\", hue=\"Sex\", data=titanic, kind=\"swarm\")\n",
    "fig = plt.gcf()\n",
    "fig.set_size_inches(7,7)\n",
    "plt.show()"
   ]
  },
  {
   "cell_type": "markdown",
   "id": "cbaf7074",
   "metadata": {},
   "source": [
    "above we can see that it is mostly women that have survived"
   ]
  },
  {
   "cell_type": "code",
   "execution_count": 13,
   "id": "b1e89e9b",
   "metadata": {},
   "outputs": [
    {
     "name": "stderr",
     "output_type": "stream",
     "text": [
      "C:\\Users\\Rnowa\\anaconda3\\envs\\SDA_DASCI\\lib\\site-packages\\seaborn\\categorical.py:1296: UserWarning: 6.2% of the points cannot be placed; you may want to decrease the size of the markers or use stripplot.\n",
      "  warnings.warn(msg, UserWarning)\n"
     ]
    },
    {
     "data": {
      "image/png": "[encoded data removed]",
      "text/plain": [
       "<Figure size 504x504 with 1 Axes>"
      ]
     },
     "metadata": {
      "needs_background": "light"
     },
     "output_type": "display_data"
    }
   ],
   "source": [
    "sns.catplot(x=\"Survived\", y=\"Age\", hue=\"Embarked\", data=titanic, kind=\"swarm\")\n",
    "fig = plt.gcf()\n",
    "fig.set_size_inches(7,7)\n",
    "plt.show()"
   ]
  },
  {
   "cell_type": "markdown",
   "id": "2893f686",
   "metadata": {},
   "source": [
    "above we can see that there is more people from Cherbourg that have survived than not"
   ]
  },
  {
   "cell_type": "markdown",
   "id": "8617cca7",
   "metadata": {},
   "source": [
    "## Data Cleaning / wrangling"
   ]
  },
  {
   "cell_type": "code",
   "execution_count": 14,
   "id": "99d9d7f0",
   "metadata": {},
   "outputs": [],
   "source": [
    "# fill the two missing values in the Embarked column\n",
    "titanic[\"Embarked\"] = titanic[\"Embarked\"].fillna(\"S\")"
   ]
  },
  {
   "cell_type": "code",
   "execution_count": 15,
   "id": "367cf835",
   "metadata": {},
   "outputs": [
    {
     "data": {
      "text/plain": [
       "177"
      ]
     },
     "execution_count": 15,
     "metadata": {},
     "output_type": "execute_result"
    }
   ],
   "source": [
    "# there are 177 missing values in the Age column\n",
    "titanic[\"Age\"].isnull().sum()"
   ]
  },
  {
   "cell_type": "code",
   "execution_count": 16,
   "id": "9511297a",
   "metadata": {},
   "outputs": [],
   "source": [
    "# so let's interpolate the missing values in our Age column by using the .interpolate() method [this is a bit of an experimental feature]\n",
    "titanic[\"Age\"] = titanic[\"Age\"].interpolate(method=\"pad\", limit=30)\n",
    "# the problem is that we might get a person who is supposed to be a child as a 60 year old. This could be a problem in some cases"
   ]
  },
  {
   "cell_type": "markdown",
   "id": "b5ed3383",
   "metadata": {},
   "source": [
    "#### Let's encode categorical variables with numbers"
   ]
  },
  {
   "cell_type": "code",
   "execution_count": 17,
   "id": "f75ac1d8",
   "metadata": {},
   "outputs": [
    {
     "data": {
      "text/html": [
       "<div>\n",
       "<style scoped>\n",
       "    .dataframe tbody tr th:only-of-type {\n",
       "        vertical-align: middle;\n",
       "    }\n",
       "\n",
       "    .dataframe tbody tr th {\n",
       "        vertical-align: top;\n",
       "    }\n",
       "\n",
       "    .dataframe thead th {\n",
       "        text-align: right;\n",
       "    }\n",
       "</style>\n",
       "<table border=\"1\" class=\"dataframe\">\n",
       "  <thead>\n",
       "    <tr style=\"text-align: right;\">\n",
       "      <th></th>\n",
       "      <th>PassengerId</th>\n",
       "      <th>Survived</th>\n",
       "      <th>Pclass</th>\n",
       "      <th>Name</th>\n",
       "      <th>Sex</th>\n",
       "      <th>Age</th>\n",
       "      <th>SibSp</th>\n",
       "      <th>Parch</th>\n",
       "      <th>Ticket</th>\n",
       "      <th>Fare</th>\n",
       "      <th>Cabin</th>\n",
       "      <th>Embarked</th>\n",
       "    </tr>\n",
       "  </thead>\n",
       "  <tbody>\n",
       "    <tr>\n",
       "      <th>0</th>\n",
       "      <td>1</td>\n",
       "      <td>0</td>\n",
       "      <td>3</td>\n",
       "      <td>Braund, Mr. Owen Harris</td>\n",
       "      <td>0</td>\n",
       "      <td>22.0</td>\n",
       "      <td>1</td>\n",
       "      <td>0</td>\n",
       "      <td>A/5 21171</td>\n",
       "      <td>7.2500</td>\n",
       "      <td>NaN</td>\n",
       "      <td>S</td>\n",
       "    </tr>\n",
       "    <tr>\n",
       "      <th>1</th>\n",
       "      <td>2</td>\n",
       "      <td>1</td>\n",
       "      <td>1</td>\n",
       "      <td>Cumings, Mrs. John Bradley (Florence Briggs Th...</td>\n",
       "      <td>1</td>\n",
       "      <td>38.0</td>\n",
       "      <td>1</td>\n",
       "      <td>0</td>\n",
       "      <td>PC 17599</td>\n",
       "      <td>71.2833</td>\n",
       "      <td>C85</td>\n",
       "      <td>C</td>\n",
       "    </tr>\n",
       "    <tr>\n",
       "      <th>2</th>\n",
       "      <td>3</td>\n",
       "      <td>1</td>\n",
       "      <td>3</td>\n",
       "      <td>Heikkinen, Miss. Laina</td>\n",
       "      <td>1</td>\n",
       "      <td>26.0</td>\n",
       "      <td>0</td>\n",
       "      <td>0</td>\n",
       "      <td>STON/O2. 3101282</td>\n",
       "      <td>7.9250</td>\n",
       "      <td>NaN</td>\n",
       "      <td>S</td>\n",
       "    </tr>\n",
       "    <tr>\n",
       "      <th>3</th>\n",
       "      <td>4</td>\n",
       "      <td>1</td>\n",
       "      <td>1</td>\n",
       "      <td>Futrelle, Mrs. Jacques Heath (Lily May Peel)</td>\n",
       "      <td>1</td>\n",
       "      <td>35.0</td>\n",
       "      <td>1</td>\n",
       "      <td>0</td>\n",
       "      <td>113803</td>\n",
       "      <td>53.1000</td>\n",
       "      <td>C123</td>\n",
       "      <td>S</td>\n",
       "    </tr>\n",
       "    <tr>\n",
       "      <th>4</th>\n",
       "      <td>5</td>\n",
       "      <td>0</td>\n",
       "      <td>3</td>\n",
       "      <td>Allen, Mr. William Henry</td>\n",
       "      <td>0</td>\n",
       "      <td>35.0</td>\n",
       "      <td>0</td>\n",
       "      <td>0</td>\n",
       "      <td>373450</td>\n",
       "      <td>8.0500</td>\n",
       "      <td>NaN</td>\n",
       "      <td>S</td>\n",
       "    </tr>\n",
       "  </tbody>\n",
       "</table>\n",
       "</div>"
      ],
      "text/plain": [
       "   PassengerId  Survived  Pclass  \\\n",
       "0            1         0       3   \n",
       "1            2         1       1   \n",
       "2            3         1       3   \n",
       "3            4         1       1   \n",
       "4            5         0       3   \n",
       "\n",
       "                                                Name  Sex   Age  SibSp  Parch  \\\n",
       "0                            Braund, Mr. Owen Harris    0  22.0      1      0   \n",
       "1  Cumings, Mrs. John Bradley (Florence Briggs Th...    1  38.0      1      0   \n",
       "2                             Heikkinen, Miss. Laina    1  26.0      0      0   \n",
       "3       Futrelle, Mrs. Jacques Heath (Lily May Peel)    1  35.0      1      0   \n",
       "4                           Allen, Mr. William Henry    0  35.0      0      0   \n",
       "\n",
       "             Ticket     Fare Cabin Embarked  \n",
       "0         A/5 21171   7.2500   NaN        S  \n",
       "1          PC 17599  71.2833   C85        C  \n",
       "2  STON/O2. 3101282   7.9250   NaN        S  \n",
       "3            113803  53.1000  C123        S  \n",
       "4            373450   8.0500   NaN        S  "
      ]
     },
     "execution_count": 17,
     "metadata": {},
     "output_type": "execute_result"
    }
   ],
   "source": [
    "# lets encode female = 1 and male = 0\n",
    "gender_mapping = {\"female\": 1, \"male\": 0}\n",
    "titanic[\"Sex\"] = titanic[\"Sex\"].apply(lambda x: gender_mapping[x])\n",
    "titanic.head(5)"
   ]
  },
  {
   "cell_type": "code",
   "execution_count": 18,
   "id": "05506ab6",
   "metadata": {},
   "outputs": [
    {
     "data": {
      "text/html": [
       "<div>\n",
       "<style scoped>\n",
       "    .dataframe tbody tr th:only-of-type {\n",
       "        vertical-align: middle;\n",
       "    }\n",
       "\n",
       "    .dataframe tbody tr th {\n",
       "        vertical-align: top;\n",
       "    }\n",
       "\n",
       "    .dataframe thead th {\n",
       "        text-align: right;\n",
       "    }\n",
       "</style>\n",
       "<table border=\"1\" class=\"dataframe\">\n",
       "  <thead>\n",
       "    <tr style=\"text-align: right;\">\n",
       "      <th></th>\n",
       "      <th>PassengerId</th>\n",
       "      <th>Survived</th>\n",
       "      <th>Pclass</th>\n",
       "      <th>Name</th>\n",
       "      <th>Sex</th>\n",
       "      <th>Age</th>\n",
       "      <th>SibSp</th>\n",
       "      <th>Parch</th>\n",
       "      <th>Ticket</th>\n",
       "      <th>Fare</th>\n",
       "      <th>Cabin</th>\n",
       "      <th>Embarked</th>\n",
       "    </tr>\n",
       "  </thead>\n",
       "  <tbody>\n",
       "    <tr>\n",
       "      <th>0</th>\n",
       "      <td>1</td>\n",
       "      <td>0</td>\n",
       "      <td>3</td>\n",
       "      <td>Braund, Mr. Owen Harris</td>\n",
       "      <td>0</td>\n",
       "      <td>22.0</td>\n",
       "      <td>1</td>\n",
       "      <td>0</td>\n",
       "      <td>A/5 21171</td>\n",
       "      <td>7.2500</td>\n",
       "      <td>NaN</td>\n",
       "      <td>3</td>\n",
       "    </tr>\n",
       "    <tr>\n",
       "      <th>1</th>\n",
       "      <td>2</td>\n",
       "      <td>1</td>\n",
       "      <td>1</td>\n",
       "      <td>Cumings, Mrs. John Bradley (Florence Briggs Th...</td>\n",
       "      <td>1</td>\n",
       "      <td>38.0</td>\n",
       "      <td>1</td>\n",
       "      <td>0</td>\n",
       "      <td>PC 17599</td>\n",
       "      <td>71.2833</td>\n",
       "      <td>C85</td>\n",
       "      <td>1</td>\n",
       "    </tr>\n",
       "    <tr>\n",
       "      <th>2</th>\n",
       "      <td>3</td>\n",
       "      <td>1</td>\n",
       "      <td>3</td>\n",
       "      <td>Heikkinen, Miss. Laina</td>\n",
       "      <td>1</td>\n",
       "      <td>26.0</td>\n",
       "      <td>0</td>\n",
       "      <td>0</td>\n",
       "      <td>STON/O2. 3101282</td>\n",
       "      <td>7.9250</td>\n",
       "      <td>NaN</td>\n",
       "      <td>3</td>\n",
       "    </tr>\n",
       "    <tr>\n",
       "      <th>3</th>\n",
       "      <td>4</td>\n",
       "      <td>1</td>\n",
       "      <td>1</td>\n",
       "      <td>Futrelle, Mrs. Jacques Heath (Lily May Peel)</td>\n",
       "      <td>1</td>\n",
       "      <td>35.0</td>\n",
       "      <td>1</td>\n",
       "      <td>0</td>\n",
       "      <td>113803</td>\n",
       "      <td>53.1000</td>\n",
       "      <td>C123</td>\n",
       "      <td>3</td>\n",
       "    </tr>\n",
       "    <tr>\n",
       "      <th>4</th>\n",
       "      <td>5</td>\n",
       "      <td>0</td>\n",
       "      <td>3</td>\n",
       "      <td>Allen, Mr. William Henry</td>\n",
       "      <td>0</td>\n",
       "      <td>35.0</td>\n",
       "      <td>0</td>\n",
       "      <td>0</td>\n",
       "      <td>373450</td>\n",
       "      <td>8.0500</td>\n",
       "      <td>NaN</td>\n",
       "      <td>3</td>\n",
       "    </tr>\n",
       "  </tbody>\n",
       "</table>\n",
       "</div>"
      ],
      "text/plain": [
       "   PassengerId  Survived  Pclass  \\\n",
       "0            1         0       3   \n",
       "1            2         1       1   \n",
       "2            3         1       3   \n",
       "3            4         1       1   \n",
       "4            5         0       3   \n",
       "\n",
       "                                                Name  Sex   Age  SibSp  Parch  \\\n",
       "0                            Braund, Mr. Owen Harris    0  22.0      1      0   \n",
       "1  Cumings, Mrs. John Bradley (Florence Briggs Th...    1  38.0      1      0   \n",
       "2                             Heikkinen, Miss. Laina    1  26.0      0      0   \n",
       "3       Futrelle, Mrs. Jacques Heath (Lily May Peel)    1  35.0      1      0   \n",
       "4                           Allen, Mr. William Henry    0  35.0      0      0   \n",
       "\n",
       "             Ticket     Fare Cabin  Embarked  \n",
       "0         A/5 21171   7.2500   NaN         3  \n",
       "1          PC 17599  71.2833   C85         1  \n",
       "2  STON/O2. 3101282   7.9250   NaN         3  \n",
       "3            113803  53.1000  C123         3  \n",
       "4            373450   8.0500   NaN         3  "
      ]
     },
     "execution_count": 18,
     "metadata": {},
     "output_type": "execute_result"
    }
   ],
   "source": [
    "# lets encode the embarked column C = Cherbourg = 1, Q = Queenstown = 2, S = Southampton = 3\n",
    "embarked_mapping = {\"C\": 1, \"Q\": 2, \"S\": 3}\n",
    "titanic[\"Embarked\"] = titanic[\"Embarked\"].apply(lambda x: embarked_mapping[x])\n",
    "titanic.head(5)"
   ]
  },
  {
   "cell_type": "markdown",
   "id": "76d48cd8",
   "metadata": {},
   "source": [
    "## Feature preparation and engineering"
   ]
  },
  {
   "cell_type": "markdown",
   "id": "875de4fd",
   "metadata": {},
   "source": [
    "### Let's make a new dataframe with the data that we will actually use in the mode"
   ]
  },
  {
   "cell_type": "code",
   "execution_count": 19,
   "id": "3d9e1715",
   "metadata": {},
   "outputs": [
    {
     "data": {
      "text/plain": [
       "Index(['PassengerId', 'Survived', 'Pclass', 'Name', 'Sex', 'Age', 'SibSp',\n",
       "       'Parch', 'Ticket', 'Fare', 'Cabin', 'Embarked'],\n",
       "      dtype='object')"
      ]
     },
     "execution_count": 19,
     "metadata": {},
     "output_type": "execute_result"
    }
   ],
   "source": [
    "titanic.columns"
   ]
  },
  {
   "cell_type": "markdown",
   "id": "7026f538",
   "metadata": {},
   "source": [
    "#### We only take the numerical and categorical variables and ignore text data for now"
   ]
  },
  {
   "cell_type": "code",
   "execution_count": 20,
   "id": "76ef6c4a",
   "metadata": {},
   "outputs": [],
   "source": [
    "titanic_clean = pd.DataFrame(titanic[[\"Survived\", \"Pclass\", \"Sex\", \"Age\", \"SibSp\", \"Parch\", \"Fare\", \"Embarked\"]])"
   ]
  },
  {
   "cell_type": "code",
   "execution_count": 21,
   "id": "93066a47",
   "metadata": {},
   "outputs": [
    {
     "data": {
      "text/html": [
       "<div>\n",
       "<style scoped>\n",
       "    .dataframe tbody tr th:only-of-type {\n",
       "        vertical-align: middle;\n",
       "    }\n",
       "\n",
       "    .dataframe tbody tr th {\n",
       "        vertical-align: top;\n",
       "    }\n",
       "\n",
       "    .dataframe thead th {\n",
       "        text-align: right;\n",
       "    }\n",
       "</style>\n",
       "<table border=\"1\" class=\"dataframe\">\n",
       "  <thead>\n",
       "    <tr style=\"text-align: right;\">\n",
       "      <th></th>\n",
       "      <th>Survived</th>\n",
       "      <th>Pclass</th>\n",
       "      <th>Sex</th>\n",
       "      <th>Age</th>\n",
       "      <th>SibSp</th>\n",
       "      <th>Parch</th>\n",
       "      <th>Fare</th>\n",
       "      <th>Embarked</th>\n",
       "    </tr>\n",
       "  </thead>\n",
       "  <tbody>\n",
       "    <tr>\n",
       "      <th>0</th>\n",
       "      <td>0</td>\n",
       "      <td>3</td>\n",
       "      <td>0</td>\n",
       "      <td>22.0</td>\n",
       "      <td>1</td>\n",
       "      <td>0</td>\n",
       "      <td>7.2500</td>\n",
       "      <td>3</td>\n",
       "    </tr>\n",
       "    <tr>\n",
       "      <th>1</th>\n",
       "      <td>1</td>\n",
       "      <td>1</td>\n",
       "      <td>1</td>\n",
       "      <td>38.0</td>\n",
       "      <td>1</td>\n",
       "      <td>0</td>\n",
       "      <td>71.2833</td>\n",
       "      <td>1</td>\n",
       "    </tr>\n",
       "    <tr>\n",
       "      <th>2</th>\n",
       "      <td>1</td>\n",
       "      <td>3</td>\n",
       "      <td>1</td>\n",
       "      <td>26.0</td>\n",
       "      <td>0</td>\n",
       "      <td>0</td>\n",
       "      <td>7.9250</td>\n",
       "      <td>3</td>\n",
       "    </tr>\n",
       "    <tr>\n",
       "      <th>3</th>\n",
       "      <td>1</td>\n",
       "      <td>1</td>\n",
       "      <td>1</td>\n",
       "      <td>35.0</td>\n",
       "      <td>1</td>\n",
       "      <td>0</td>\n",
       "      <td>53.1000</td>\n",
       "      <td>3</td>\n",
       "    </tr>\n",
       "    <tr>\n",
       "      <th>4</th>\n",
       "      <td>0</td>\n",
       "      <td>3</td>\n",
       "      <td>0</td>\n",
       "      <td>35.0</td>\n",
       "      <td>0</td>\n",
       "      <td>0</td>\n",
       "      <td>8.0500</td>\n",
       "      <td>3</td>\n",
       "    </tr>\n",
       "  </tbody>\n",
       "</table>\n",
       "</div>"
      ],
      "text/plain": [
       "   Survived  Pclass  Sex   Age  SibSp  Parch     Fare  Embarked\n",
       "0         0       3    0  22.0      1      0   7.2500         3\n",
       "1         1       1    1  38.0      1      0  71.2833         1\n",
       "2         1       3    1  26.0      0      0   7.9250         3\n",
       "3         1       1    1  35.0      1      0  53.1000         3\n",
       "4         0       3    0  35.0      0      0   8.0500         3"
      ]
     },
     "execution_count": 21,
     "metadata": {},
     "output_type": "execute_result"
    }
   ],
   "source": [
    "# This is the dataframe we will use for our models\n",
    "titanic_clean.head()"
   ]
  },
  {
   "cell_type": "markdown",
   "id": "408e71b3",
   "metadata": {},
   "source": [
    "## Train-test split"
   ]
  },
  {
   "cell_type": "markdown",
   "id": "8189c133",
   "metadata": {},
   "source": [
    "### We use 80% of our data for training and 20% for model validation"
   ]
  },
  {
   "cell_type": "code",
   "execution_count": 22,
   "id": "4cbcce3d",
   "metadata": {},
   "outputs": [],
   "source": [
    "x = titanic_clean[['Pclass', 'Sex', 'Age', 'SibSp', 'Parch', 'Fare', 'Embarked']]\n",
    "y = titanic_clean['Survived']\n",
    "\n",
    "# for presentation purposes let's use the output of the split with stratify\n",
    "X_train, X_test, y_train, y_test = ttt(x, y, test_size=0.20, shuffle=True, stratify=y, random_state=42)"
   ]
  },
  {
   "cell_type": "markdown",
   "id": "c808717b",
   "metadata": {},
   "source": [
    "#### Let's see how the *stratify* parameter works in the train_test_split() method"
   ]
  },
  {
   "cell_type": "code",
   "execution_count": 23,
   "id": "3ed61829",
   "metadata": {},
   "outputs": [
    {
     "name": "stdout",
     "output_type": "stream",
     "text": [
      "count for stratify y_train:\n",
      "0    439\n",
      "1    273\n",
      "Name: Survived, dtype: int64\n",
      "count for stratify y_test:\n",
      "0    110\n",
      "1     69\n",
      "Name: Survived, dtype: int64\n"
     ]
    }
   ],
   "source": [
    "# with stratify\n",
    "print(f\"count for stratify y_train:\\n{y_train.value_counts()}\")\n",
    "print(f\"count for stratify y_test:\\n{y_test.value_counts()}\")\n"
   ]
  },
  {
   "cell_type": "code",
   "execution_count": 24,
   "id": "9e21f11c",
   "metadata": {},
   "outputs": [],
   "source": [
    "x_t = titanic_clean[['Pclass', 'Sex', 'Age', 'SibSp', 'Parch', 'Fare', 'Embarked']]\n",
    "y_t = titanic_clean['Survived']\n",
    "\n",
    "X_train_t, X_test_t, y_train_t, y_test_t = ttt(x, y, test_size=0.20, shuffle=True, random_state=42)"
   ]
  },
  {
   "cell_type": "code",
   "execution_count": 25,
   "id": "8d50f67b",
   "metadata": {},
   "outputs": [
    {
     "name": "stdout",
     "output_type": "stream",
     "text": [
      "count for non-stratify y_train:\n",
      "0    444\n",
      "1    268\n",
      "Name: Survived, dtype: int64\n",
      "count for non-stratify y_test:\n",
      "0    105\n",
      "1     74\n",
      "Name: Survived, dtype: int64\n"
     ]
    }
   ],
   "source": [
    "# without stratify\n",
    "print(f\"count for non-stratify y_train:\\n{y_train_t.value_counts()}\")\n",
    "print(f\"count for non-stratify y_test:\\n{y_test_t.value_counts()}\")"
   ]
  },
  {
   "cell_type": "markdown",
   "id": "4bf4edea",
   "metadata": {},
   "source": [
    "We can see that it does not change the distribution in our dependent variable between the splits. We would have to check if the differences are statisticall significant but let us ignore that for now."
   ]
  },
  {
   "cell_type": "markdown",
   "id": "903a8d73",
   "metadata": {},
   "source": [
    "## Train the models"
   ]
  },
  {
   "cell_type": "markdown",
   "id": "0e35ae4c",
   "metadata": {},
   "source": [
    "#### Random forrest classifier"
   ]
  },
  {
   "cell_type": "code",
   "execution_count": 26,
   "id": "71fe49f4",
   "metadata": {},
   "outputs": [],
   "source": [
    "rfc_classifier = rfc()\n",
    "rfc_classifier.fit(X_train, y_train)\n",
    "\n",
    "# then lets get the predictions for our test split\n",
    "pred = rfc_classifier.predict(X_test)"
   ]
  },
  {
   "cell_type": "markdown",
   "id": "754ae50b",
   "metadata": {},
   "source": [
    "## Model evaluation"
   ]
  },
  {
   "cell_type": "code",
   "execution_count": 27,
   "id": "d2cb100f",
   "metadata": {},
   "outputs": [],
   "source": [
    "# these are the function we will use to calculate and print the metrics to validate a model we train\n",
    "def calculate_metrics(target, prediction, average='weighted'):\n",
    "    accuracy = accuracy_score(target, prediction)\n",
    "    precision = precision_score(target, prediction, average=average)\n",
    "    recall = recall_score(target, prediction, average=average)\n",
    "    f1 = f1_score(target, prediction, average=average)\n",
    "    mislabeled = (target != prediction).sum()\n",
    "    total = len(target)\n",
    "    return accuracy, precision, recall, f1, mislabeled, total\n",
    "\n",
    "def print_results(metrics, classifier_id='classifier'):\n",
    "    print(f'Results for {classifier_id}')\n",
    "    print('----')\n",
    "    print(f'  Accuracy:  {metrics[0]}')\n",
    "    print(f'  Precision: {metrics[1]}')\n",
    "    print(f'  Recall:    {metrics[2]}')\n",
    "    print(f'  F1 score:  {metrics[3]}')\n",
    "    print(f'  Mislabeled {metrics[4]} out of {metrics[5]}')\n",
    "    print('\\n')"
   ]
  },
  {
   "cell_type": "markdown",
   "id": "7a695faa",
   "metadata": {},
   "source": [
    "#### Metrics for the validation of our Random Forest Clasiffier model:"
   ]
  },
  {
   "cell_type": "code",
   "execution_count": 28,
   "id": "b783b129",
   "metadata": {},
   "outputs": [
    {
     "name": "stdout",
     "output_type": "stream",
     "text": [
      "Results for rfc\n",
      "----\n",
      "  Accuracy:  0.7988826815642458\n",
      "  Precision: 0.7972808761796547\n",
      "  Recall:    0.7988826815642458\n",
      "  F1 score:  0.7953986519310178\n",
      "  Mislabeled 36 out of 179\n",
      "\n",
      "\n"
     ]
    }
   ],
   "source": [
    "print_results(calculate_metrics(y_test, pred), 'rfc')"
   ]
  },
  {
   "cell_type": "markdown",
   "id": "08327e03",
   "metadata": {},
   "source": [
    "below we can see which feature are most important in our model\n",
    "- https://scikit-learn.org/stable/modules/generated/sklearn.ensemble.RandomForestClassifier.html#sklearn.ensemble.RandomForestClassifier.feature_importances_"
   ]
  },
  {
   "cell_type": "code",
   "execution_count": 29,
   "id": "b1b80abf",
   "metadata": {},
   "outputs": [
    {
     "data": {
      "text/plain": [
       "{'Fare': 0.269184950141229,\n",
       " 'Age': 0.26362640724688036,\n",
       " 'Sex': 0.2479477905202539,\n",
       " 'Pclass': 0.09016280894643611,\n",
       " 'SibSp': 0.05112808629867263,\n",
       " 'Parch': 0.04228944289525751,\n",
       " 'Embarked': 0.035660513951270546}"
      ]
     },
     "execution_count": 29,
     "metadata": {},
     "output_type": "execute_result"
    }
   ],
   "source": [
    "columns = list(titanic_clean.columns)\n",
    "columns.remove(\"Survived\")\n",
    "\n",
    "feature_importances = dict(zip(columns, rfc_classifier.feature_importances_))\n",
    "dict(sorted(feature_importances.items(), key=lambda item: item[1], reverse=True))"
   ]
  },
  {
   "cell_type": "markdown",
   "id": "5de1df75",
   "metadata": {},
   "source": [
    "### Let's train another Random Forrest Classifier with only the three most important features"
   ]
  },
  {
   "cell_type": "code",
   "execution_count": 30,
   "id": "bca1e5da",
   "metadata": {},
   "outputs": [],
   "source": [
    "titanic_clean_imp = pd.DataFrame(titanic[['Sex', 'Age', 'Fare']])\n",
    "x_imp = titanic_clean_imp\n",
    "y_imp = titanic_clean['Survived']\n",
    "\n",
    "X_train_imp, X_test_imp, y_train_imp, y_test_imp = ttt(x_imp, y_imp, test_size=0.20, random_state=11, shuffle=True, stratify=y_imp)"
   ]
  },
  {
   "cell_type": "code",
   "execution_count": 31,
   "id": "e5ea3f70",
   "metadata": {},
   "outputs": [
    {
     "data": {
      "text/plain": [
       "RandomForestClassifier()"
      ]
     },
     "execution_count": 31,
     "metadata": {},
     "output_type": "execute_result"
    }
   ],
   "source": [
    "rfc_classifier_imp = rfc()\n",
    "rfc_classifier_imp.fit(X_train_imp, y_train_imp)"
   ]
  },
  {
   "cell_type": "code",
   "execution_count": 32,
   "id": "a7a98543",
   "metadata": {},
   "outputs": [],
   "source": [
    "# then lets get the predictions for our test split\n",
    "pred_imp = rfc_classifier_imp.predict(X_test_imp)"
   ]
  },
  {
   "cell_type": "code",
   "execution_count": 33,
   "id": "387ed634",
   "metadata": {},
   "outputs": [
    {
     "name": "stdout",
     "output_type": "stream",
     "text": [
      "Results for rfc\n",
      "----\n",
      "  Accuracy:  0.8044692737430168\n",
      "  Precision: 0.802870757241444\n",
      "  Recall:    0.8044692737430168\n",
      "  F1 score:  0.8014907413028273\n",
      "  Mislabeled 35 out of 179\n",
      "\n",
      "\n"
     ]
    }
   ],
   "source": [
    "print_results(calculate_metrics(y_test_imp, pred_imp), 'rfc')"
   ]
  },
  {
   "cell_type": "markdown",
   "id": "ec3460b7",
   "metadata": {},
   "source": [
    "Above we see that removing the less important features did not help. Let's see if we can tune some hyperparameters to increase the metrics on our first dataset. Let's use GridSearchCV."
   ]
  },
  {
   "cell_type": "markdown",
   "id": "3d2e64a1",
   "metadata": {},
   "source": [
    "#### Using gridsearch for the hyperparameter tuning"
   ]
  },
  {
   "cell_type": "code",
   "execution_count": 34,
   "id": "4460924d",
   "metadata": {},
   "outputs": [],
   "source": [
    "from sklearn.model_selection import GridSearchCV"
   ]
  },
  {
   "cell_type": "code",
   "execution_count": 35,
   "id": "911c89b0",
   "metadata": {},
   "outputs": [],
   "source": [
    "parameters = {'max_depth':(3, 4, 5, 6),\n",
    "              'min_samples_split':(2, 3, 4, 5)}\n",
    "searcher = GridSearchCV(rfc_classifier, parameters)"
   ]
  },
  {
   "cell_type": "code",
   "execution_count": 36,
   "id": "18d75cbc",
   "metadata": {},
   "outputs": [
    {
     "data": {
      "text/plain": [
       "GridSearchCV(estimator=RandomForestClassifier(),\n",
       "             param_grid={'max_depth': (3, 4, 5, 6),\n",
       "                         'min_samples_split': (2, 3, 4, 5)})"
      ]
     },
     "execution_count": 36,
     "metadata": {},
     "output_type": "execute_result"
    }
   ],
   "source": [
    "searcher.fit(X_train, y_train)"
   ]
  },
  {
   "cell_type": "code",
   "execution_count": 37,
   "id": "00039649",
   "metadata": {},
   "outputs": [],
   "source": [
    "cv_pred = searcher.predict(X_test)"
   ]
  },
  {
   "cell_type": "code",
   "execution_count": 57,
   "id": "2fa285d3",
   "metadata": {},
   "outputs": [
    {
     "name": "stdout",
     "output_type": "stream",
     "text": [
      "Results for rfc gridsearchcv\n",
      "----\n",
      "  Accuracy:  0.8212290502793296\n",
      "  Precision: 0.8247627078659018\n",
      "  Recall:    0.8212290502793296\n",
      "  F1 score:  0.8155663972456657\n",
      "  Mislabeled 32 out of 179\n",
      "\n",
      "\n"
     ]
    }
   ],
   "source": [
    "print_results(calculate_metrics(y_test, cv_pred), 'rfc gridsearchcv')"
   ]
  },
  {
   "cell_type": "markdown",
   "id": "bdba8c52",
   "metadata": {},
   "source": [
    "#### Logistic Regression"
   ]
  },
  {
   "cell_type": "code",
   "execution_count": 39,
   "id": "bb095432",
   "metadata": {},
   "outputs": [],
   "source": [
    "from sklearn.linear_model import LogisticRegression"
   ]
  },
  {
   "cell_type": "code",
   "execution_count": 40,
   "id": "ac065043",
   "metadata": {},
   "outputs": [
    {
     "data": {
      "text/plain": [
       "LogisticRegression(solver='liblinear')"
      ]
     },
     "execution_count": 40,
     "metadata": {},
     "output_type": "execute_result"
    }
   ],
   "source": [
    "lr = LogisticRegression(solver=\"liblinear\", penalty=\"l2\")\n",
    "lr.fit(X_train, y_train)"
   ]
  },
  {
   "cell_type": "code",
   "execution_count": 41,
   "id": "b40ca2db",
   "metadata": {},
   "outputs": [],
   "source": [
    "lr_pred = lr.predict(X_test)"
   ]
  },
  {
   "cell_type": "code",
   "execution_count": 42,
   "id": "69025c84",
   "metadata": {},
   "outputs": [
    {
     "name": "stdout",
     "output_type": "stream",
     "text": [
      "Results for lr\n",
      "----\n",
      "  Accuracy:  0.8100558659217877\n",
      "  Precision: 0.8089353912192658\n",
      "  Recall:    0.8100558659217877\n",
      "  F1 score:  0.8067653934904058\n",
      "  Mislabeled 34 out of 179\n",
      "\n",
      "\n"
     ]
    }
   ],
   "source": [
    "print_results(calculate_metrics(y_test, lr_pred), 'lr')"
   ]
  },
  {
   "cell_type": "markdown",
   "id": "dcf6bfcb",
   "metadata": {},
   "source": [
    "#### let's crossvalidate the linear regression model"
   ]
  },
  {
   "cell_type": "code",
   "execution_count": 43,
   "id": "db3fee08",
   "metadata": {},
   "outputs": [],
   "source": [
    "parameters_lr = {'C':(0.5, 0.4, 0.3, 0.2, 0.1, 0.01, 0.001)}\n",
    "searcher_lr = GridSearchCV(lr, parameters_lr)"
   ]
  },
  {
   "cell_type": "code",
   "execution_count": 44,
   "id": "813bbbfa",
   "metadata": {},
   "outputs": [
    {
     "data": {
      "text/plain": [
       "GridSearchCV(estimator=LogisticRegression(solver='liblinear'),\n",
       "             param_grid={'C': (0.5, 0.4, 0.3, 0.2, 0.1, 0.01, 0.001)})"
      ]
     },
     "execution_count": 44,
     "metadata": {},
     "output_type": "execute_result"
    }
   ],
   "source": [
    "searcher_lr.fit(X_train, y_train)"
   ]
  },
  {
   "cell_type": "code",
   "execution_count": 45,
   "id": "38d2a0fe",
   "metadata": {},
   "outputs": [],
   "source": [
    "pred_cv_lr = searcher_lr.predict(X_test)"
   ]
  },
  {
   "cell_type": "code",
   "execution_count": 58,
   "id": "4495b1ec",
   "metadata": {},
   "outputs": [
    {
     "name": "stdout",
     "output_type": "stream",
     "text": [
      "Results for logistic regression gridsearchcv\n",
      "----\n",
      "  Accuracy:  0.8156424581005587\n",
      "  Precision: 0.8151608553265266\n",
      "  Recall:    0.8156424581005587\n",
      "  F1 score:  0.8120479353488635\n",
      "  Mislabeled 33 out of 179\n",
      "\n",
      "\n"
     ]
    }
   ],
   "source": [
    "print_results(calculate_metrics(y_test, pred_cv_lr), 'logistic regression gridsearchcv')"
   ]
  },
  {
   "cell_type": "markdown",
   "id": "3dd3ce73",
   "metadata": {},
   "source": [
    "## Project Summary"
   ]
  },
  {
   "cell_type": "markdown",
   "id": "7d0c9113",
   "metadata": {},
   "source": [
    "### We made two classifiction models:"
   ]
  },
  {
   "cell_type": "markdown",
   "id": "37c73d13",
   "metadata": {},
   "source": [
    "#### Random forrest classifier\n",
    "Below is the result for this model with GridSearchCV"
   ]
  },
  {
   "cell_type": "code",
   "execution_count": 47,
   "id": "a5f1499f",
   "metadata": {},
   "outputs": [
    {
     "name": "stdout",
     "output_type": "stream",
     "text": [
      "Results for rfc cv\n",
      "----\n",
      "  Accuracy:  0.8212290502793296\n",
      "  Precision: 0.8247627078659018\n",
      "  Recall:    0.8212290502793296\n",
      "  F1 score:  0.8155663972456657\n",
      "  Mislabeled 32 out of 179\n",
      "\n",
      "\n"
     ]
    }
   ],
   "source": [
    "print_results(calculate_metrics(y_test, cv_pred), 'random forest clasiffier gridsearchcv')"
   ]
  },
  {
   "cell_type": "markdown",
   "id": "04cba9f8",
   "metadata": {},
   "source": [
    "### Let's also see the confusion matrix for the RFC model with gridsearchCV"
   ]
  },
  {
   "cell_type": "code",
   "execution_count": 55,
   "id": "2fffa196",
   "metadata": {},
   "outputs": [
    {
     "data": {
      "text/plain": [
       "array([[102,   8],\n",
       "       [ 24,  45]], dtype=int64)"
      ]
     },
     "execution_count": 55,
     "metadata": {},
     "output_type": "execute_result"
    }
   ],
   "source": [
    "cf_matrix_rfc = confusion_matrix(y_test, cv_pred)\n",
    "cf_matrix_rfc"
   ]
  },
  {
   "cell_type": "code",
   "execution_count": 54,
   "id": "b380990b",
   "metadata": {},
   "outputs": [
    {
     "data": {
      "image/png": "[encoded data removed]",
      "text/plain": [
       "<Figure size 432x288 with 2 Axes>"
      ]
     },
     "metadata": {
      "needs_background": "light"
     },
     "output_type": "display_data"
    }
   ],
   "source": [
    "ax = sns.heatmap(cf_matrix_rfc, annot=True, cmap='Blues')\n",
    "ax.set_title('Seaborn Confusion Matrix with labels\\n\\n');\n",
    "ax.set_xlabel('\\nPredicted Values')\n",
    "ax.set_ylabel('Actual Values ');\n",
    "\n",
    "## Ticket labels - List must be in alphabetical order\n",
    "ax.xaxis.set_ticklabels(['False','True'])\n",
    "ax.yaxis.set_ticklabels(['False','True'])\n",
    "\n",
    "## Display the visualization of the Confusion Matrix.\n",
    "plt.show()"
   ]
  },
  {
   "cell_type": "markdown",
   "id": "e01f4a0c",
   "metadata": {},
   "source": [
    "#### Logistic regression\n",
    "Below is the result for this model with GridSearchCV"
   ]
  },
  {
   "cell_type": "code",
   "execution_count": 48,
   "id": "87f89274",
   "metadata": {},
   "outputs": [
    {
     "name": "stdout",
     "output_type": "stream",
     "text": [
      "Results for lr cv\n",
      "----\n",
      "  Accuracy:  0.8156424581005587\n",
      "  Precision: 0.8151608553265266\n",
      "  Recall:    0.8156424581005587\n",
      "  F1 score:  0.8120479353488635\n",
      "  Mislabeled 33 out of 179\n",
      "\n",
      "\n"
     ]
    }
   ],
   "source": [
    "print_results(calculate_metrics(y_test, pred_cv_lr), 'logistic regression gridsearchcv')"
   ]
  },
  {
   "cell_type": "code",
   "execution_count": 60,
   "id": "76f4c141",
   "metadata": {},
   "outputs": [
    {
     "data": {
      "text/plain": [
       "array([[99, 11],\n",
       "       [22, 47]], dtype=int64)"
      ]
     },
     "execution_count": 60,
     "metadata": {},
     "output_type": "execute_result"
    }
   ],
   "source": [
    "cf_matrix_lr = confusion_matrix(y_test, pred_cv_lr)\n",
    "cf_matrix_lr"
   ]
  },
  {
   "cell_type": "code",
   "execution_count": 61,
   "id": "0c9acfbc",
   "metadata": {},
   "outputs": [
    {
     "data": {
      "image/png": "[encoded data removed]",
      "text/plain": [
       "<Figure size 432x288 with 2 Axes>"
      ]
     },
     "metadata": {
      "needs_background": "light"
     },
     "output_type": "display_data"
    }
   ],
   "source": [
    "ax = sns.heatmap(cf_matrix_lr, annot=True, cmap='Blues')\n",
    "ax.set_title('Seaborn Confusion Matrix with labels\\n\\n');\n",
    "ax.set_xlabel('\\nPredicted Values')\n",
    "ax.set_ylabel('Actual Values ');\n",
    "\n",
    "## Ticket labels - List must be in alphabetical order\n",
    "ax.xaxis.set_ticklabels(['False','True'])\n",
    "ax.yaxis.set_ticklabels(['False','True'])\n",
    "\n",
    "## Display the visualization of the Confusion Matrix.\n",
    "plt.show()"
   ]
  },
  {
   "cell_type": "markdown",
   "id": "9cd2fb4c",
   "metadata": {},
   "source": [
    "## Interpretation of the models & model metrics\n",
    "* Accuracy\n",
    "$$\n",
    "Accuracy = \\frac{TP + TN}{TP + TN + FP + FN}\n",
    "$$\n",
    "    * Thanks to the confusion matrices we can see that the Accuracy score may be somewhat misleading in cases like here because there are less people who survived than those who did not survive. This is reflected only after we take a look at the confusion matrices.\n",
    "* Precision\n",
    "$$\n",
    "Precision = \\frac{TP}{TP + FP}\n",
    "$$\n",
    "    * However if you refer to the code cells above, Accuracy and Precision have almost identical values so it seems not to be an issue in our case.\n",
    "* Recall\n",
    "$$\n",
    "Precision = \\frac{TP}{TP + FN}\n",
    "$$\n",
    "* F1 score<br><br>\n",
    "$$\n",
    "F1 = 2 * \\frac{Precission * Recall}{Precission + Recall}\n",
    "$$\n",
    "<br><br>\n",
    "All the metrics have very similar values in both models which we can once again see in the code cells below:"
   ]
  },
  {
   "cell_type": "code",
   "execution_count": 63,
   "id": "b984b3f8",
   "metadata": {},
   "outputs": [
    {
     "name": "stdout",
     "output_type": "stream",
     "text": [
      "Results for random forest clasiffier gridsearchcv\n",
      "----\n",
      "  Accuracy:  0.8212290502793296\n",
      "  Precision: 0.8247627078659018\n",
      "  Recall:    0.8212290502793296\n",
      "  F1 score:  0.8155663972456657\n",
      "  Mislabeled 32 out of 179\n",
      "\n",
      "\n"
     ]
    }
   ],
   "source": [
    "print_results(calculate_metrics(y_test, cv_pred), 'random forest clasiffier gridsearchcv')"
   ]
  },
  {
   "cell_type": "code",
   "execution_count": 62,
   "id": "6483856d",
   "metadata": {},
   "outputs": [
    {
     "name": "stdout",
     "output_type": "stream",
     "text": [
      "Results for logistic regression gridsearchcv\n",
      "----\n",
      "  Accuracy:  0.8156424581005587\n",
      "  Precision: 0.8151608553265266\n",
      "  Recall:    0.8156424581005587\n",
      "  F1 score:  0.8120479353488635\n",
      "  Mislabeled 33 out of 179\n",
      "\n",
      "\n"
     ]
    }
   ],
   "source": [
    "print_results(calculate_metrics(y_test, pred_cv_lr), 'logistic regression gridsearchcv')"
   ]
  },
  {
   "cell_type": "markdown",
   "id": "f459061f",
   "metadata": {},
   "source": [
    "## Conclusion & next steps\n",
    "We can see that the performance of our Random Forest Clasiffier is very close to our Logistic Regression Model. There seems to be about 1% difference in favor of RFC.<br><br>\n",
    "\n",
    "We could try feature engineering with our text variables like here https://www.kaggle.com/code/surajkumar88/titanic-machine-learning-from-disaster-eda.<br><br>\n",
    "In our RFC model, the most significant variables were Age, Sex, and Fare. However, in this case it proved to be better to leave all the variables in our RFC model, not just the most significant ones. There are also other ways to evalueate feature importance than the one used here. It may be worth to look into those.<br><br>\n",
    "We could try different parameter values for our GridSearchCV() to see if there are any improvements. We could also try Boosted ensemble methods to see if we get better performance than logistic regression and RFC.<br><br>\n",
    "**Generally we have to paths for improvement. We can focus on feature engineering and playing around with our data or we can focus on hyperparameter tuning and improving our models**"
   ]
  },
  {
   "cell_type": "markdown",
   "id": "f675a1eb",
   "metadata": {},
   "source": [
    "## TODO:\n",
    "* Review: Check the data pipeline to see if it is sound and nothing got lost along the way\n",
    "* Look at the wrong predictions and see if there is any pattern"
   ]
  }
 ],
 "metadata": {
  "kernelspec": {
   "display_name": "Python 3 (ipykernel)",
   "language": "python",
   "name": "python3"
  },
  "language_info": {
   "codemirror_mode": {
    "name": "ipython",
    "version": 3
   },
   "file_extension": ".py",
   "mimetype": "text/x-python",
   "name": "python",
   "nbconvert_exporter": "python",
   "pygments_lexer": "ipython3",
   "version": "3.10.4"
  }
 },
 "nbformat": 4,
 "nbformat_minor": 5
}
